{
 "cells": [
  {
   "cell_type": "markdown",
   "metadata": {
    "collapsed": true
   },
   "source": [
    "# 《Generative adversarial nets》\n",
    "\n",
    "[paper link](https://arxiv.org/abs/1406.2661)\n",
    "\n",
    "- architechture: \n",
    "\n",
    "a generative model G that captures the data distribution, \n",
    "\n",
    "and a discriminative model D that estimatesthe probability that a sample came from the training data rather than G.\n",
    "\n",
    "The training procedure for G is to maximize the probability of D making a mistake. \n",
    "\n",
    "This framework corresponds to a minimax two-player game. \n",
    "\n",
    "In the space of arbitrary functions G and D, a unique solution exists, with G recovering the training data distribution and D equal to $\\frac{1}{2}$ everywhere. \n",
    "\n",
    "- 将G看作假币生产者，D看作警察。二者不断地竞争直到生产者生产的假币完全以假乱真。\n",
    "\n",
    "## math\n",
    "\n",
    "$p_g$: generator's distribution;\n",
    "\n",
    "$p_z(z)$: prior on input noise variable;\n",
    "\n",
    "$G(z;θ_g)$: mapping input noise to data space;\n",
    "\n",
    "$D(x;θ_d)$: outputs a single scalar representing the probability that x came from data rather than $p_g$;\n",
    "\n",
    "value function of two-player minimax game with value function V(G,D): \n",
    "$$\\underset{G}{min}\\underset{D}{max}V(D,G)=E_{x\\sim p_{data}(x)}[logD(x)]+E_{z\\sim p_z(z)}[log(1-D(G(z)))]$$\n",
    "\n",
    "## Algorithm\n",
    "\n",
    "![](https://raw.githubusercontent.com/applenob/paper_note/master/res/gan-alg.png)\n",
    "\n",
    "- for G fixed, the optimal discriminator D is:\n",
    "$$D^*_G(x)=\\frac{p_{data}(x)}{p_{data}(x)+p_g(x)}$$\n",
    "\n",
    "## Experiments\n",
    "\n",
    "数据集：MNIST，TFD，CIFAR-10。\n",
    "\n",
    "评价标准： Parzen window-based log-likelihood estimates。\n",
    "\n",
    "- disadvantage： 没有明确的$p_g(x)$的表示;D的训练需要和G同步。\n",
    "- advantage：无需Markov chain;训练时无需inference。"
   ]
  },
  {
   "cell_type": "code",
   "execution_count": null,
   "metadata": {
    "collapsed": true
   },
   "outputs": [],
   "source": []
  }
 ],
 "metadata": {
  "anaconda-cloud": {},
  "kernelspec": {
   "display_name": "Python [default]",
   "language": "python",
   "name": "python2"
  },
  "language_info": {
   "codemirror_mode": {
    "name": "ipython",
    "version": 2
   },
   "file_extension": ".py",
   "mimetype": "text/x-python",
   "name": "python",
   "nbconvert_exporter": "python",
   "pygments_lexer": "ipython2",
   "version": "2.7.12"
  }
 },
 "nbformat": 4,
 "nbformat_minor": 0
}
