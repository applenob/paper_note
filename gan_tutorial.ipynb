{
 "cells": [
  {
   "cell_type": "markdown",
   "metadata": {},
   "source": [
    "# 《NIPS 2016 Tutorial: Generative Adversarial Networks》\n",
    "\n",
    "[paper link](https://arxiv.org/abs/1701.00160)\n",
    "\n",
    "## Why study generative modeling?\n",
    "\n",
    "- 生成模型可以评判我们表示和操作高维概率分布的水平；\n",
    "- 生成模型可以应用在增强学习的领域，增强学习中model based的算法，使用生成模型去仿真可能的未来环境；\n",
    "- 生成模型可以应用在半监督学习中，并取得不错的效果；\n",
    "- 在一些给定输入可以返回多个输出的任务中，传统的方法如MSE（最小化均方差）不能产生不同的正确的答案，而生成模型可以；\n",
    "- 还有些任务天然地需要从数据分布中采样，是生成模型最直接的用法。\n",
    "\n",
    "##  How do generative models work? How do GANs compare to others?\n",
    "\n",
    "- 极大似然估计（Maximum likelihood estimation， MLE）： \n",
    "\n",
    "$$θ^∗ = \\underset {θ}{argmax} \\sum_{i=1}^mlogp_{model}(x^{(i)};θ)$$\n",
    "\n",
    "KL散度的角度：\n",
    "\n",
    "$$θ^∗ = \\underset {θ}{argmin} D_{KL} (p_{data}(x) || p_{model}(x; θ))$$\n",
    "\n",
    "- 生成模型的分类\n",
    "\n"
   ]
  },
  {
   "cell_type": "code",
   "execution_count": null,
   "metadata": {
    "collapsed": true
   },
   "outputs": [],
   "source": []
  }
 ],
 "metadata": {
  "anaconda-cloud": {},
  "kernelspec": {
   "display_name": "Python [default]",
   "language": "python",
   "name": "python2"
  },
  "language_info": {
   "codemirror_mode": {
    "name": "ipython",
    "version": 2
   },
   "file_extension": ".py",
   "mimetype": "text/x-python",
   "name": "python",
   "nbconvert_exporter": "python",
   "pygments_lexer": "ipython2",
   "version": "2.7.12"
  }
 },
 "nbformat": 4,
 "nbformat_minor": 1
}
