{
 "cells": [
  {
   "cell_type": "markdown",
   "metadata": {},
   "source": [
    "# Objects2action: Classifying and localizing actions without any video example\n",
    "\n",
    "[paper link](https://staff.fnwi.uva.nl/t.e.j.mensink/zsl2016/zslpubs/jain15iccv.pdf)"
   ]
  },
  {
   "cell_type": "markdown",
   "metadata": {},
   "source": [
    "## 目标\n",
    "\n",
    "无需视频数据，去识别视频中的动作（actions），比如“击打排球”等。\n",
    "\n",
    "## 模型架构\n",
    "\n",
    "作者设计了一种object2action，用来分类action。\n",
    "\n",
    "object2action有三个主要的特征：1.设计一种方法来获取动作和目标（来自ImageNet）的描述，通常是几个词；2.对每个动作，自动选择最有代表性的目标；3.展示了给动作分类的zero-shot方法，和动作在时空的分布。\n",
    "\n",
    "## 数学\n",
    "\n",
    "![]()\n",
    "\n",
    "$Y$是训练的类标，$Z$是测试的类标。对于训练数据：$D=\\{X,Y\\}$，测试样例v通常由分类得分来表示，对于训练类标：$p_{vy}\\; \\forall y∈Y$；对于测试类标：$g_{yz}$，表示某个测试类和某个训练类的相关程度。$C(v)=\\underset{z}{argmax}\\sum_yp_{vy}g_{yz}$。\n",
    "\n",
    "Object Encoding：$\\mathbf p_v = [p(y_1 |v), . . . , p(y_m|v)]^T$，其中$p(y|v)$的计算，是通过从v中采样10帧，计算完以后求平均。\n",
    "\n",
    "$g_{yz}=s(y)^Ts(z)$，其中$s(\\cdot)$是所有类标的语义embedding。\n",
    "\n",
    "接下来关注如何获得$s(\\cdot)$：\n",
    "\n",
    "1.Average Word Vectors（AWV）：$s_A(c)=\\frac{1}{|w|}\\sum_{w∈c}s(w)$。\n",
    "\n",
    "2.Fisher Word Vectors （FWV）：使用混合高斯模型训练，$s_{F(c)}=[G_{μ_1}^c , G_{σ_1}^c , . . . , G_{μ_k}^c , G_{σ_k}^c ]T $\n",
    "\n",
    "Sparse translation：动机：作者举了一个例子，比如action类标————“划行爱斯基摩独木舟（kayaking）”，合理的相关的object可以是“爱斯基摩独木舟”/“水”/“海洋”，还有一些额外的相似的object，比如“冲浪板”/“木筏”/“船桨”，但是和一些不先关的词的相似度可能会带来影响，比如“猫”/“狗”。两种方法做稀疏化：\n",
    "\n",
    "1.Action Sparsity：给定类标z，选择$T_z$个最有代表性的object类，$\\hat g_z=[g_{zy_1}δ(y_1,T_z),...,g_{zy_m}δ(y_m,T_z)]^T$，其中，$δ(y_i,T_z)$是个indicator函数，如果$y_i$属于前$T_z$，那么返回1。\n",
    "\n",
    "2.Video Sparsity：类似的，只保留top $T_v$个最有代表性的出现在视频里的object：$\\hat {\\mathbf {p}} _v=[p(y_1|v)δ(y_1,T_v),...,p(y_m|v)δ(y_m,T_v)]^T$。"
   ]
  },
  {
   "cell_type": "code",
   "execution_count": null,
   "metadata": {
    "collapsed": true
   },
   "outputs": [],
   "source": []
  }
 ],
 "metadata": {
  "anaconda-cloud": {},
  "kernelspec": {
   "display_name": "Python [default]",
   "language": "python",
   "name": "python2"
  },
  "language_info": {
   "codemirror_mode": {
    "name": "ipython",
    "version": 2
   },
   "file_extension": ".py",
   "mimetype": "text/x-python",
   "name": "python",
   "nbconvert_exporter": "python",
   "pygments_lexer": "ipython2",
   "version": "2.7.12"
  }
 },
 "nbformat": 4,
 "nbformat_minor": 1
}
