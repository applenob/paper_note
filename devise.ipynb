{
 "cells": [
  {
   "cell_type": "markdown",
   "metadata": {
    "collapsed": true
   },
   "source": [
    "## DeViSE: A Deep Visual-Semantic Embedding Model\n",
    "\n",
    "[paper link](http://webia.lip6.fr/~gallinar/gallinari/uploads/Teaching/NIPS2013-frome.pdf)"
   ]
  },
  {
   "cell_type": "markdown",
   "metadata": {},
   "source": [
    "## 动机\n",
    "\n",
    "为了解决有标注的图片数据不够用的问题，提出了Deep Visual-Semantic Embedding Model，来同时使用已标注的图片和未标注的文本信息。\n",
    "\n",
    "## 模型架构\n",
    "\n",
    "![]()\n",
    "\n",
    "语言模型的预训练：使用skip-gram训练语义表示向量。训练数据来自wikipedia.org。\n",
    "\n",
    "视觉模型的预训练：使用带dropout的cnn，学习视觉信息的表示。训练数据来自ImageNet 2012 1K挑战数据集。\n",
    "\n",
    "Deep Visual-Semantic Embedding Model：将视觉模型最上层softmax去掉，加入一层projection，生成视觉的向量表示。使用语言模型获得label的语义向量。最后，计算语义向量和视觉向量的相似度。相似度衡量的选择是最重要的一部分，简单使用最小均方差效果很差。作者采用了一种**hinge rank loss**：$loss(image, label) = \\sum_{j≠label}max[0, margin-\\overrightarrow{t_{label}}M\\overrightarrow{v}(image)+\\overrightarrow{t_{j}}M\\overrightarrow{v}(image)]$，其中，$\\overrightarrow{v}(image)$是代表视觉网络最上层的输出的列向量，M是线性转换层的可训练的参数矩阵，$\\overrightarrow{t_{label}}$是label的语义向量（行向量），$\\overrightarrow{t_{j}}$是其他词的语义向量，margin取0.1。\n",
    "\n",
    "测试时，输入一张图片，先计算视觉向量，做transformation，然后寻找最近的label，这里最后一步可以使用树和hash技术来提高查找效率。\n",
    "\n",
    "## 结果\n",
    "\n",
    "对比的模型：1.softmax baseline model；2.随机embedding的模型，即语言模型学的的embedding用随机向量代替。\n",
    "\n",
    "指标：1.flat hit @ k：真实label在模型返回的前k个prediction中的百分比。2.hierachical precision @ k：先给出label的语义结构，获得一个真实的list，对每个example，计算前k个prediction和真实list重合的比例。\n",
    "\n",
    "ImageNet 2012 1K的结果：指标1：对比模型1，稍差，但很接近；指标2：在语义泛华能力上，作者的模型比模型1更强。\n",
    "\n",
    "用于zero-shot"
   ]
  }
 ],
 "metadata": {
  "anaconda-cloud": {},
  "kernelspec": {
   "display_name": "Python [default]",
   "language": "python",
   "name": "python2"
  },
  "language_info": {
   "codemirror_mode": {
    "name": "ipython",
    "version": 2
   },
   "file_extension": ".py",
   "mimetype": "text/x-python",
   "name": "python",
   "nbconvert_exporter": "python",
   "pygments_lexer": "ipython2",
   "version": "2.7.12"
  }
 },
 "nbformat": 4,
 "nbformat_minor": 0
}
