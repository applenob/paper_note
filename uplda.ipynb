{
 "cells": [
  {
   "cell_type": "markdown",
   "metadata": {
    "collapsed": true
   },
   "source": [
    "# 《Unsupervised Pixel–Level Domain Adaptation with Generative Adversarial Networks》\n",
    "\n",
    "[paper link](https://arxiv.org/abs/1612.05424)\n",
    "\n",
    "## work\n",
    "\n",
    "训练了一个可以将source domain的image转换成target domain的image，并且保留原image的内容的模型。\n",
    "\n",
    "$X^S=\\{x_i^S,y_i^S\\}_{i=0}^{N^S}$代表source domain的$N^S$个samples，$X^t=\\{x_i^t\\}^{N^t}_{i=0}$代表target domain的无标记数据；\n",
    "\n",
    "我们的模型包含一个生成函数：$G(x^S,z;θ_G) \\rightarrow x^f$，其中，$z\\sim p_z$是噪声向量，$x^f$是假的，或者称为adapted的图像。\n",
    "\n",
    "$X^f=\\{G(x^S,z),y^S\\}$是最终生成的数据集，可以用于其他task-specific的训练。\n",
    "\n",
    "\n",
    "## model\n",
    "\n",
    "$T(x;θ_T) \\rightarrow \\hat y$是一个task-specific分类器。\n",
    "\n",
    "目标函数：$\\underset{θ_G,θ_T}{min}\\underset{θ_D}{max}αL_d(D,G)+βL_t(G,T)$，其中，α和β控制两个部分的权重；\n",
    "\n",
    "$L_d(D,G)=\\mathbb{E}_{x^t}[logD(x^t;θ_D)]+\\mathbb{E}_{x^S,z}[log(1-D(G(x^S,z;θ_G)；θ_D))]$，是domain loss；\n",
    "\n",
    "$L_t(G,T)=\\mathbb{E}_{x^S,y^S,z}[-y^{S^T}logT(G(x^S,z;θ_G);θ_T)-y^{S^T}logT(G(x^S,z;θ_G);θ_T)]$，是task-specific loss。\n",
    "\n",
    "![]()"
   ]
  },
  {
   "cell_type": "code",
   "execution_count": null,
   "metadata": {
    "collapsed": true
   },
   "outputs": [],
   "source": []
  }
 ],
 "metadata": {
  "kernelspec": {
   "display_name": "Python [default]",
   "language": "python",
   "name": "python2"
  },
  "language_info": {
   "codemirror_mode": {
    "name": "ipython",
    "version": 2
   },
   "file_extension": ".py",
   "mimetype": "text/x-python",
   "name": "python",
   "nbconvert_exporter": "python",
   "pygments_lexer": "ipython2",
   "version": "2.7.12"
  }
 },
 "nbformat": 4,
 "nbformat_minor": 0
}
