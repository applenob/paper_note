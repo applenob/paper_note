{
 "cells": [
  {
   "cell_type": "markdown",
   "metadata": {
    "collapsed": true
   },
   "source": [
    "# 《Generative Adversarial Text to Image Synthesis》\n",
    "\n",
    "[paper link](https://arxiv.org/abs/1605.05396)\n",
    "\n",
    "## work\n",
    "\n",
    "We develop a novel deep architecture and GAN formulation to effectively bridge these advances in text and image modeling, **translating visual concepts from characters to pixels**.\n",
    "\n",
    "## decompose into 2 sub-problems\n",
    "\n",
    "1.learn a text feature representation that captures the important visual details; 2. use these features to synthesize a complling image that a human might mistake for real.\n",
    "\n",
    "## why GAN\n",
    "\n",
    "The distribution of images conditioned on a text description is highly multimodal, in the sense that there are very many plausible configurations of pixels that correctly illustrate the discription.\n",
    "\n",
    "## architecture\n",
    "\n",
    "![](https://raw.githubusercontent.com/applenob/paper_note/master/res/gat2is.png)\n",
    "\n",
    "1.GAN-CLS\n",
    "\n",
    "![](https://raw.githubusercontent.com/applenob/paper_note/master/res/gan_cls.png)\n",
    "\n",
    "2.GAN-INT\n",
    "\n",
    "因为有理论说明两个embedding的插值，倾向于接近数据的流形，所以在损失函数中增加下面这项：$\\mathbb{E}_{t_1,t_2~p_{data}}[log(1-D(G(z,βt_1+(1-β)t_2)))]$\n",
    "\n",
    "## result\n",
    "\n",
    "![](https://raw.githubusercontent.com/applenob/paper_note/master/res/gat2is_reslut.png)\n",
    "\n"
   ]
  },
  {
   "cell_type": "code",
   "execution_count": null,
   "metadata": {
    "collapsed": true
   },
   "outputs": [],
   "source": []
  }
 ],
 "metadata": {
  "anaconda-cloud": {},
  "kernelspec": {
   "display_name": "Python [default]",
   "language": "python",
   "name": "python2"
  },
  "language_info": {
   "codemirror_mode": {
    "name": "ipython",
    "version": 2
   },
   "file_extension": ".py",
   "mimetype": "text/x-python",
   "name": "python",
   "nbconvert_exporter": "python",
   "pygments_lexer": "ipython2",
   "version": "2.7.12"
  }
 },
 "nbformat": 4,
 "nbformat_minor": 0
}
