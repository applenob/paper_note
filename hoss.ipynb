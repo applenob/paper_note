{
 "cells": [
  {
   "cell_type": "markdown",
   "metadata": {},
   "source": [
    "# Harnessing Object and Scene Semantics for Large-Scale Video Understanding\n",
    "\n",
    "[paper link](http://cs.brown.edu/~ls/Publications/cvpr2016wu.pdf)"
   ]
  },
  {
   "cell_type": "markdown",
   "metadata": {},
   "source": [
    "## 动机\n",
    "\n",
    "识别vedio中的目标（object）和场景语义（scene semantics）。\n",
    "\n",
    "## 模型架构\n",
    "\n",
    "包含了三种信息流的语义融合网络（semantic fusion network），分为三层：1.基于帧的低层次的CNN特征；2.基于目标（object）的大型CNN，用来识别对象，可识别20K个类；3.场景特征的大型CNN，可以识别205个场景。\n",
    "\n",
    "使用object/scene 关系对 作为语义的表示（semantic representation）。\n",
    "\n",
    "![](https://raw.githubusercontent.com/applenob/paper_note/master/res/hoss-model.png)\n",
    "![](https://raw.githubusercontent.com/applenob/paper_note/master/res/hoss-model-2.png)\n",
    "\n",
    "## 数学\n",
    "\n",
    "训练数据：$D$，每段视频的类标是$z_i∈ Z_{Tr}$，$D=\\{(x_i,z_i)\\}_{i=1,...,n_{Tr}}$，其中，$n_{Tr}$是训练视频的个数；视频：$V_i=\\{f_{i,1},...,f_{i,n_i}\\}$，其中$n_i$是$V_i$的帧数。\n",
    "\n"
   ]
  },
  {
   "cell_type": "markdown",
   "metadata": {},
   "source": []
  }
 ],
 "metadata": {
  "kernelspec": {
   "display_name": "Python [default]",
   "language": "python",
   "name": "python2"
  },
  "language_info": {
   "codemirror_mode": {
    "name": "ipython",
    "version": 2
   },
   "file_extension": ".py",
   "mimetype": "text/x-python",
   "name": "python",
   "nbconvert_exporter": "python",
   "pygments_lexer": "ipython2",
   "version": "2.7.12"
  }
 },
 "nbformat": 4,
 "nbformat_minor": 1
}
