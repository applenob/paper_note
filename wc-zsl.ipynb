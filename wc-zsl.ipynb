{
 "cells": [
  {
   "cell_type": "markdown",
   "metadata": {
    "collapsed": true
   },
   "source": [
    "# 《Write a Classifier: Zero-Shot Learning Using Purely Textual Descriptions》\n",
    "\n",
    "[paper link](https://www.researchgate.net/profile/Mohamed_Elhoseiny2/publication/259334789_Write_a_Classifier_Zero_Shot_Learning_Using_Purely_Textual_Descriptions/links/0deec52b1096b57770000000.pdf)\n",
    "\n",
    "## work\n",
    "\n",
    "如何使用纯文本的关于一些视觉目标种类的描述，而不是这些种类的训练图片来学习如何分类关于这些种类的图片。\n",
    "\n",
    "\n",
    "## model\n",
    "\n",
    "对于视觉学习，给定训练数据：$V=\\{(x_i,l_i)\\}_N$，其中$x_i$是图片，而$l_i∈\\{1,...,N_{sc}\\}$是图片的类标，sc代表“seen classes”。\n",
    "\n",
    "我们要学习$N_sc$个二分类器（one vs all），$f_k(x)=c_k^T\\cdot x$，其中，$c_k∈R^{d_v}$是第k个二分类器的参数。\n",
    "\n",
    "那么，给定一个测试图片，它的类标是：$l^*=arg\\underset{k}{max}f_k(x)$。\n",
    "\n",
    "$t_k∈R^{d_t}_{k=1,...,N_{sc}}$是文本的特征。\n",
    "\n",
    "给定一个没有见过的种类C的文本特征：$t_*$，问题可以转换成如何预测一个分类器参数$c(t_*)$。\n",
    "\n",
    "**Regression Model**：\n",
    "\n",
    "**Knowledge Transfer Model**："
   ]
  },
  {
   "cell_type": "code",
   "execution_count": null,
   "metadata": {
    "collapsed": true
   },
   "outputs": [],
   "source": []
  }
 ],
 "metadata": {
  "anaconda-cloud": {},
  "kernelspec": {
   "display_name": "Python [default]",
   "language": "python",
   "name": "python2"
  },
  "language_info": {
   "codemirror_mode": {
    "name": "ipython",
    "version": 2
   },
   "file_extension": ".py",
   "mimetype": "text/x-python",
   "name": "python",
   "nbconvert_exporter": "python",
   "pygments_lexer": "ipython2",
   "version": "2.7.12"
  }
 },
 "nbformat": 4,
 "nbformat_minor": 0
}
