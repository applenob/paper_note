{
 "cells": [
  {
   "cell_type": "markdown",
   "metadata": {
    "collapsed": true
   },
   "source": [
    "# 《Predicting Deep Zero-Shot Convolutional Neural Networks using Textual Descriptions》\n",
    "\n",
    "[paper_link](https://arxiv.org/abs/1506.00511)\n",
    "\n",
    "## work\n",
    "\n",
    "A new model that can **classify unseen categories from their textual description**.\n",
    "\n",
    "## domain adaption 和 zero shot 的区别\n",
    "\n",
    "domain adaption 类的任务，target domain的类标是提前知道的，而且是固定的。\n",
    "\n",
    "## model\n",
    "\n",
    "training set:\n",
    "\n",
    "$D_{train} = \\{(x^{(n)} , l^{(n)} )\\}_N$, $l ∈ {1, ..., C}$\n",
    "\n",
    "testing set:\n",
    "\n",
    "$D_{test} = \\{(x_{test}{(n)} , l_{test}{(n)})\\}_{N_{test}}$, $l_{test} ∈ \\{1, ..., C, ...C +n0 \\}$ \n",
    "\n",
    "1.x是image的特征向量，$x∈R^d$，额外的text特征向量: $t_c∈R^p$，构造线性二分类器：$\\hat{y_c}=w_c^Tx$，其中，$w_c=f_t(t_c)$，$f_t: R^p\\rightarrow R^d$\n",
    "\n",
    "2.考虑到d和p都很大，引入k，k << d，分类器变成：$\\hat {y_c}=w_c^Tg_v(x)$，其中，$f_t: R^p\\rightarrow R^k$，$g_v: R^d \\rightarrow R^k$\n",
    "\n",
    "![](https://raw.githubusercontent.com/applenob/paper_note/master/res/pd-zs-cnn-model.png)\n",
    "\n",
    "## evaluation\n",
    "\n",
    "[ROC和AUC介绍以及如何计算AUC](http://alexkong.net/2013/06/introduction-to-auc-and-roc/)"
   ]
  },
  {
   "cell_type": "code",
   "execution_count": null,
   "metadata": {
    "collapsed": true
   },
   "outputs": [],
   "source": []
  }
 ],
 "metadata": {
  "anaconda-cloud": {},
  "kernelspec": {
   "display_name": "Python [default]",
   "language": "python",
   "name": "python2"
  },
  "language_info": {
   "codemirror_mode": {
    "name": "ipython",
    "version": 2
   },
   "file_extension": ".py",
   "mimetype": "text/x-python",
   "name": "python",
   "nbconvert_exporter": "python",
   "pygments_lexer": "ipython2",
   "version": "2.7.12"
  }
 },
 "nbformat": 4,
 "nbformat_minor": 0
}
